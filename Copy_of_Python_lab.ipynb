{
  "nbformat": 4,
  "nbformat_minor": 0,
  "metadata": {
    "colab": {
      "provenance": [],
      "authorship_tag": "ABX9TyNVBfK1Ku3dfyVeJqGqG4bh",
      "include_colab_link": true
    },
    "kernelspec": {
      "name": "python3",
      "display_name": "Python 3"
    },
    "language_info": {
      "name": "python"
    }
  },
  "cells": [
    {
      "cell_type": "markdown",
      "metadata": {
        "id": "view-in-github",
        "colab_type": "text"
      },
      "source": [
        "<a href=\"https://colab.research.google.com/github/23mca58/Programming-lab/blob/main/Copy_of_Python_lab.ipynb\" target=\"_parent\"><img src=\"https://colab.research.google.com/assets/colab-badge.svg\" alt=\"Open In Colab\"/></a>"
      ]
    },
    {
      "cell_type": "code",
      "source": [
        "#Write a program to input a number if the number is greater than 10 display apropriate message\n",
        "num=int(input(\"Enter the number : \"))\n",
        "if(num>10):\n",
        " print(\"The number is greater than 10\")"
      ],
      "metadata": {
        "colab": {
          "base_uri": "https://localhost:8080/"
        },
        "id": "xyjKc7dzByb-",
        "outputId": "b7d645f8-4833-4d24-f22e-a0aa236a0cc6"
      },
      "execution_count": null,
      "outputs": [
        {
          "output_type": "stream",
          "name": "stdout",
          "text": [
            "Enter the number : 19\n",
            "The number is greater than 10\n"
          ]
        }
      ]
    },
    {
      "cell_type": "code",
      "source": [
        "#Write a program to input the age of a person check whether the person is eligible to vote and display apropriate message\n",
        "age=int(input(\"Enter the age of the person : \"))\n",
        "if(age>=18):\n",
        " print(\"The person is eligible to vote\")\n",
        "else:\n",
        " print(\"The person is not eligible to vote\")\n"
      ],
      "metadata": {
        "colab": {
          "base_uri": "https://localhost:8080/"
        },
        "id": "X-XqtiVnCAhc",
        "outputId": "540b07fa-2f13-4e42-a7e7-845341faf7c2"
      },
      "execution_count": null,
      "outputs": [
        {
          "output_type": "stream",
          "name": "stdout",
          "text": [
            "Enter the age of the person : 22\n",
            "The person is eligible to vote\n"
          ]
        }
      ]
    },
    {
      "cell_type": "code",
      "source": [
        "#Write a program to input two numbers and find the largest number\n",
        "a=int(input(\"Enter the first number : \"))\n",
        "b=int(input(\"Enter the second number : \"))\n",
        "if(a>b):\n",
        "  print(\"The largest number is : \",a)\n",
        "else:\n",
        "  print(\"The largest number is : \",b)"
      ],
      "metadata": {
        "colab": {
          "base_uri": "https://localhost:8080/"
        },
        "id": "xg7rsF3zCQ31",
        "outputId": "96c92715-9f30-4c7d-8e2b-43c30df1e855"
      },
      "execution_count": null,
      "outputs": [
        {
          "output_type": "stream",
          "name": "stdout",
          "text": [
            "Enter the first number : 2\n",
            "Enter the second number : 8\n",
            "The largest number is :  8\n"
          ]
        }
      ]
    },
    {
      "cell_type": "code",
      "source": [
        "#Write a program to input a number check whether the number is odd or even\n",
        "num=int(input(\"Enter the number : \"))\n",
        "if(num%2==0):\n",
        "  print(\"The number is even\")\n",
        "else:\n",
        "  print(\"The number is odd\")"
      ],
      "metadata": {
        "colab": {
          "base_uri": "https://localhost:8080/"
        },
        "id": "OS-DS3BqCaAm",
        "outputId": "096977cf-ca5c-4177-c776-16e30ea76745"
      },
      "execution_count": null,
      "outputs": [
        {
          "output_type": "stream",
          "name": "stdout",
          "text": [
            "Enter the number : 7\n",
            "The number is odd\n"
          ]
        }
      ]
    },
    {
      "cell_type": "code",
      "source": [
        "#Write a program to input a number,find sum display appropriate message if the sum is geater than 10\n",
        "a=int(input(\"Enter the first number : \"))\n",
        "b=int(input(\"Enter the second number : \"))\n",
        "sum=a+b;\n",
        "if(sum>10):\n",
        "  print(\"The sum is greater than 10\")"
      ],
      "metadata": {
        "colab": {
          "base_uri": "https://localhost:8080/"
        },
        "id": "68Y-qtDCCksd",
        "outputId": "a786858c-df69-4c25-ad6a-8ccc6e406bf2"
      },
      "execution_count": null,
      "outputs": [
        {
          "output_type": "stream",
          "name": "stdout",
          "text": [
            "Enter the first number : 5\n",
            "Enter the second number : 8\n",
            "The sum is greater than 10\n"
          ]
        }
      ]
    },
    {
      "cell_type": "code",
      "source": [
        "#CO1:11.Find biggest of 3 numbers entered.\n",
        "a=int(input(\"Enter the first number : \"))\n",
        "b=int(input(\"Enter the second number : \"))\n",
        "c=int(input(\"Enter the third number : \"))\n",
        "if(a>b and a>c):\n",
        "  print(\"The largest number is : \",a)\n",
        "elif(b>a and b>c):\n",
        "  print(\"The largest number is : \",b)\n",
        "elif(c>a and c>b):\n",
        "  print(\"The largest number is : \",c)"
      ],
      "metadata": {
        "colab": {
          "base_uri": "https://localhost:8080/"
        },
        "id": "hsJ8bEm9CvHk",
        "outputId": "0b3c91f9-9a33-43d8-dc33-9a3479a49ae7"
      },
      "execution_count": null,
      "outputs": [
        {
          "output_type": "stream",
          "name": "stdout",
          "text": [
            "Enter the first number : 5\n",
            "Enter the second number : 8\n",
            "Enter the third number : 10\n",
            "The largest number is :  10\n"
          ]
        }
      ]
    },
    {
      "cell_type": "code",
      "source": [
        "#Write the program to display the first n natural numbers\n",
        "n=int(input(\"Enter the value for n : \"))\n",
        "for i in range(n):\n",
        "  i=i+1;\n",
        "  print(i)"
      ],
      "metadata": {
        "colab": {
          "base_uri": "https://localhost:8080/"
        },
        "id": "AEUMZLX_LPO-",
        "outputId": "924c5dd8-f7d4-4efe-b754-97a4e54ccd0b"
      },
      "execution_count": null,
      "outputs": [
        {
          "output_type": "stream",
          "name": "stdout",
          "text": [
            "Enter the value for n : 10\n",
            "1\n",
            "2\n",
            "3\n",
            "4\n",
            "5\n",
            "6\n",
            "7\n",
            "8\n",
            "9\n",
            "10\n"
          ]
        }
      ]
    },
    {
      "cell_type": "code",
      "source": [
        "#Write a program to display even numbers upto n\n",
        "n=int(input(\"Enter the value for n : \"))\n",
        "for i in range(n):\n",
        "  if(i%2==0):\n",
        "    print(i)"
      ],
      "metadata": {
        "colab": {
          "base_uri": "https://localhost:8080/"
        },
        "id": "S2XpbYtULY8P",
        "outputId": "7e2888bc-b615-4092-e29a-ac62787f1882"
      },
      "execution_count": null,
      "outputs": [
        {
          "output_type": "stream",
          "name": "stdout",
          "text": [
            "Enter the value for n : 10\n",
            "0\n",
            "2\n",
            "4\n",
            "6\n",
            "8\n"
          ]
        }
      ]
    },
    {
      "cell_type": "code",
      "source": [
        "#Write a program to display first n even numbers\n",
        "n=int(input(\"Enter the value for n : \"))\n",
        "for i in range(n):\n",
        "  print(2*i)\n",
        "\n",
        "\n"
      ],
      "metadata": {
        "id": "TrHT1bmnLfGd",
        "colab": {
          "base_uri": "https://localhost:8080/"
        },
        "outputId": "2e67c1af-c51c-494a-9060-45b766bdd830"
      },
      "execution_count": null,
      "outputs": [
        {
          "output_type": "stream",
          "name": "stdout",
          "text": [
            "Enter the value for n : 6\n",
            "0\n",
            "2\n",
            "4\n",
            "6\n",
            "8\n",
            "10\n"
          ]
        }
      ]
    },
    {
      "cell_type": "code",
      "source": [
        "#CO1:2.Display future leap years from current year to a final year entered by user.\n",
        "c=int(input(\"Enter the current year \"))\n",
        "n=int(input(\"Enter the final year\"))\n",
        "for i in range(c,n):\n",
        "  if(i%4==0)and(i%100!=0)or(i%400==0):\n",
        "    print(i)\n",
        "\n",
        "\n"
      ],
      "metadata": {
        "colab": {
          "base_uri": "https://localhost:8080/"
        },
        "id": "9P3mJq-s_8jB",
        "outputId": "2d870aa0-4864-4ff7-de4f-3beb1c31f570"
      },
      "execution_count": null,
      "outputs": [
        {
          "output_type": "stream",
          "name": "stdout",
          "text": [
            "Enter the current year 2023\n",
            "Enter the final year2050\n",
            "2024\n",
            "2028\n",
            "2032\n",
            "2036\n",
            "2040\n",
            "2044\n",
            "2048\n"
          ]
        }
      ]
    },
    {
      "cell_type": "code",
      "source": [
        "#CO1:10.Accept the radius from user and find area of circle.\n",
        "r=float(input(\"Enter the radius of the circle : \"))\n",
        "a=(3.14*r*r);\n",
        "print(\"Area : \",a)"
      ],
      "metadata": {
        "colab": {
          "base_uri": "https://localhost:8080/"
        },
        "id": "hXVB4LgVIDh7",
        "outputId": "755e852a-e1e0-4064-8bc5-3a6674d15215"
      },
      "execution_count": null,
      "outputs": [
        {
          "output_type": "stream",
          "name": "stdout",
          "text": [
            "Enter the radius of the circle : 4\n",
            "Area :  50.24\n"
          ]
        }
      ]
    },
    {
      "cell_type": "code",
      "source": [
        "#CO1:11.Find biggest of 3 numbers entered.\n",
        "a=int(input(\"Enter the first number : \"))\n",
        "b=int(input(\"Enter the second number : \"))\n",
        "c=int(input(\"Enter the third number : \"))\n",
        "if(a>b and a>c):\n",
        "  print(\"The biggest number is : \",a)\n",
        "elif(b>a and b>c):\n",
        "  print(\"The biggest number is : \",b)\n",
        "elif(c>a and c>b):\n",
        "  print(\"The biggest number is : \",c)\n"
      ],
      "metadata": {
        "colab": {
          "base_uri": "https://localhost:8080/"
        },
        "id": "vS5WIjviJvq9",
        "outputId": "6cef3669-4b16-42b7-ff79-8fd486057a67"
      },
      "execution_count": null,
      "outputs": [
        {
          "output_type": "stream",
          "name": "stdout",
          "text": [
            "Enter the first number : 5\n",
            "Enter the second number : 6\n",
            "Enter the third number : 8\n",
            "The biggest number is :  8\n"
          ]
        }
      ]
    },
    {
      "cell_type": "code",
      "source": [
        "#CO2:1.Program to find the factorial of a number\n",
        "n=int(input(\"Enter the number : \"))\n",
        "f=1;\n",
        "if (n<0):\n",
        "   print(\"Sorry, factorial does not exist\")\n",
        "elif (n==0):\n",
        "   print(\"The factorial of 0 is 1\")\n",
        "else:\n",
        "   for i in range(1,n+1):\n",
        "       f = f*i\n",
        "   print(\"The factorial of\",n,\"is\",f)"
      ],
      "metadata": {
        "colab": {
          "base_uri": "https://localhost:8080/"
        },
        "id": "Yp_-vmnwKW-U",
        "outputId": "d1a8cedd-01bd-40a4-b0b3-ee48b22547e6"
      },
      "execution_count": null,
      "outputs": [
        {
          "output_type": "stream",
          "name": "stdout",
          "text": [
            "Enter the number : 5\n",
            "The factorial of 5 is 120\n"
          ]
        }
      ]
    },
    {
      "cell_type": "code",
      "source": [
        "#CO2:2.Generate Fibonacci series of N terms\n",
        "n=int(input(\"Enter the value for n : \"))\n",
        "x=0\n",
        "y=1\n",
        "sum=0\n",
        "for i in range(0,n):\n",
        "     x=y\n",
        "     y=sum\n",
        "     sum=x+y\n",
        "     print(sum)"
      ],
      "metadata": {
        "colab": {
          "base_uri": "https://localhost:8080/"
        },
        "id": "-XQfrUCxMVq_",
        "outputId": "54ca2030-32f2-4bbe-83d4-97f212975093"
      },
      "execution_count": null,
      "outputs": [
        {
          "output_type": "stream",
          "name": "stdout",
          "text": [
            "Enter the value for n : 6\n",
            "1\n",
            "1\n",
            "2\n",
            "3\n",
            "5\n",
            "8\n"
          ]
        }
      ]
    },
    {
      "cell_type": "code",
      "source": [
        "#CO2:3.Find the sum of all items in a list\n",
        "list = [2,6,8,9]\n",
        "sum=sum(list)\n",
        "print(\"Sum of all items in the list is \",sum)"
      ],
      "metadata": {
        "colab": {
          "base_uri": "https://localhost:8080/"
        },
        "id": "5n4MEZI32vIm",
        "outputId": "5070cac3-ed76-4253-bd8c-19f312359396"
      },
      "execution_count": null,
      "outputs": [
        {
          "output_type": "stream",
          "name": "stdout",
          "text": [
            "Sum of all items in the list is  25\n"
          ]
        }
      ]
    },
    {
      "cell_type": "code",
      "source": [
        "#CO2:4.Generate a list of four digit numbers in a given range with all their digits even and the number is a perfect square.\n",
        "r=[]\n",
        "for i in range(1000,10000):\n",
        "  if all(int(x)%2==0 for x in str(i)):\n",
        "    if int(i**0.5)**2==i:\n",
        "     r.append(i)\n",
        "print(\"List of numbers : \",r)"
      ],
      "metadata": {
        "colab": {
          "base_uri": "https://localhost:8080/"
        },
        "id": "XOaJ24Jw63s0",
        "outputId": "ee28f411-a335-4e9a-aabc-e1c949fbe555"
      },
      "execution_count": null,
      "outputs": [
        {
          "output_type": "stream",
          "name": "stdout",
          "text": [
            "List of numbers :  [4624, 6084, 6400, 8464]\n"
          ]
        }
      ]
    },
    {
      "cell_type": "code",
      "source": [
        "#CO2:5.Display the given pyramid with step number accepted from user. Eg: N=4\n",
        "rows=int(input(\"Enter the number of rows : \"))\n",
        "i=1\n",
        "while(i<=rows):\n",
        "  j=1\n",
        "  while(j<=i):\n",
        "    print(i*j,end=' ')\n",
        "    j=j+1\n",
        "  print()\n",
        "  i=i+1"
      ],
      "metadata": {
        "id": "0leFHzVlQhX3",
        "colab": {
          "base_uri": "https://localhost:8080/"
        },
        "outputId": "f4c26b75-f31d-498c-8c05-3d91939717c4"
      },
      "execution_count": null,
      "outputs": [
        {
          "output_type": "stream",
          "name": "stdout",
          "text": [
            "Enter the number of rows : 5\n",
            "1 \n",
            "2 4 \n",
            "3 6 9 \n",
            "4 8 12 16 \n",
            "5 10 15 20 25 \n"
          ]
        }
      ]
    },
    {
      "cell_type": "code",
      "source": [
        "#CO1:3(a)Generate positive list of numbers from a given list of integers\n",
        "list1=[2,5,-3,4,-9,7,6]\n",
        "list2=[i for i in list1 if i>0]\n",
        "print(\"positive numbers\",list2)"
      ],
      "metadata": {
        "colab": {
          "base_uri": "https://localhost:8080/"
        },
        "id": "Sc4cHkyYMwSF",
        "outputId": "7269c12f-aa2e-4827-e8a5-8045e3c8ebca"
      },
      "execution_count": null,
      "outputs": [
        {
          "output_type": "stream",
          "name": "stdout",
          "text": [
            "positive numbers [2, 5, 4, 7, 6]\n"
          ]
        }
      ]
    },
    {
      "cell_type": "code",
      "source": [
        "#CO1:3(b)Square of N numbers\n",
        "list1=[1,-2,3,-4,5]\n",
        "list2=[i**2 for i in list1]\n",
        "print(\"square of numbers\",list2)"
      ],
      "metadata": {
        "colab": {
          "base_uri": "https://localhost:8080/"
        },
        "id": "SpfJqiWzOjKl",
        "outputId": "b1fab36f-ad44-40fe-ef9c-c3bf103b12d2"
      },
      "execution_count": null,
      "outputs": [
        {
          "output_type": "stream",
          "name": "stdout",
          "text": [
            "square of numbers [1, 4, 9, 16, 25]\n"
          ]
        }
      ]
    },
    {
      "cell_type": "code",
      "source": [
        "#C01:3(c)Form a list of vowels selected from a given word\n",
        "w=input(\"Enter the word : \")\n",
        "l=[i for i in w if i in\"aeiouAEIOU\" ]\n",
        "print(l)"
      ],
      "metadata": {
        "colab": {
          "base_uri": "https://localhost:8080/"
        },
        "id": "SrphqS5sPs_V",
        "outputId": "3e89fb0f-ba5e-4912-cc48-5fff4c03c1b8"
      },
      "execution_count": null,
      "outputs": [
        {
          "output_type": "stream",
          "name": "stdout",
          "text": [
            "Enter the word : paint\n",
            "['a', 'i']\n"
          ]
        }
      ]
    },
    {
      "cell_type": "code",
      "source": [
        "#CO1:3(d)List ordinal value of each element of a word (Hint: use ord() to get ordinal values)\n",
        "c=input(\"Enter the character : \")\n",
        "l=[ord(i) for i in c]\n",
        "print(l)"
      ],
      "metadata": {
        "colab": {
          "base_uri": "https://localhost:8080/"
        },
        "id": "BedhhRCfQz5o",
        "outputId": "6e63fd2d-b4d0-4d4f-b57c-69bd7ae5d5e7"
      },
      "execution_count": null,
      "outputs": [
        {
          "output_type": "stream",
          "name": "stdout",
          "text": [
            "Enter the character : abcd\n",
            "[97, 98, 99, 100]\n"
          ]
        }
      ]
    },
    {
      "cell_type": "code",
      "source": [
        "#CO1:4.Count the occurrences of each word in a line of text.\n",
        "n=\"betty bought some butter but the butter was bitter betty bought some better butter to make the bitter butter better\"\n",
        "w=input(\"Enter a word : \")\n",
        "print(n.count(w))"
      ],
      "metadata": {
        "colab": {
          "base_uri": "https://localhost:8080/"
        },
        "id": "KmBqzpn0cBum",
        "outputId": "c5eb4b5f-bcda-447d-893e-2f5130f50a1b"
      },
      "execution_count": null,
      "outputs": [
        {
          "output_type": "stream",
          "name": "stdout",
          "text": [
            "Enter a word : butter\n",
            "4\n"
          ]
        }
      ]
    },
    {
      "cell_type": "code",
      "source": [
        "#C01:6.Store a list of first names. Count the occurrences of ‘a’ within the list\n",
        "n=['rachel','rishon','jessy','jolly']\n",
        "for i in n:\n",
        "  print(\"a occurs in\",i,i.count('a'),\"times\")\n"
      ],
      "metadata": {
        "colab": {
          "base_uri": "https://localhost:8080/"
        },
        "id": "rRVhr_iLSi6_",
        "outputId": "37725c72-c4b5-4275-80a1-de071077e83d"
      },
      "execution_count": null,
      "outputs": [
        {
          "output_type": "stream",
          "name": "stdout",
          "text": [
            "a occurs in rachel 1 times\n",
            "a occurs in rishon 0 times\n",
            "a occurs in jessy 0 times\n",
            "a occurs in jolly 0 times\n"
          ]
        }
      ]
    },
    {
      "cell_type": "code",
      "source": [
        "#CO1:5.Prompt the user for a list of integers. For all values greater than 100, store ‘over’ instead.\n",
        "list=[]\n",
        "n=int(input(\"Enter number of elements : \"))\n",
        "for i in range(0,n):\n",
        "  e=int(input(\"Enter elements : \"))\n",
        "  if (e>100):\n",
        "    list.append(\"over\")\n",
        "  else:\n",
        "    list.append(e)\n",
        "print(list)"
      ],
      "metadata": {
        "colab": {
          "base_uri": "https://localhost:8080/"
        },
        "id": "v9w9Ycx7p3BD",
        "outputId": "9b401298-fc74-429a-c358-b6c743253e59"
      },
      "execution_count": null,
      "outputs": [
        {
          "output_type": "stream",
          "name": "stdout",
          "text": [
            "Enter number of elements : 3\n",
            "Enter elements : 52\n",
            "Enter elements : 105\n",
            "Enter elements : 100\n",
            "[52, 'over', 100]\n"
          ]
        }
      ]
    },
    {
      "cell_type": "code",
      "source": [
        "#CO1:7.Enter 2 lists of integers. Check (a) Whether list are of same length (b) whether list sums to same value (c) whether any value occur in both\n",
        "list1=[]\n",
        "n=int(input(\"Enter number of elements in first list: \"))\n",
        "for i in range(0,n):\n",
        "  e=int(input(\"Enter elements in first list : \"))\n",
        "  list1.append(e)\n",
        "  list2=[]\n",
        "n2=int(input(\"Enter number of elements in second list : \"))\n",
        "for i in range(0,n2):\n",
        "  e2=int(input(\"Enter elements in second list : \"))\n",
        "  list2.append(e2)\n",
        "if (len(list1)==len(list2)):\n",
        "      print(\"The lists are of same length\")\n",
        "else:\n",
        "      print(\"The lists are of different length\")\n",
        "if(sum(list1)==sum(list2)):\n",
        "    print(\"The lists sums to same value\")\n",
        "else:\n",
        "    print(\"The lists does not sum to same value\")\n",
        "    print(\"Values that occur in both lists are\")\n",
        "    for i in list1:\n",
        "      for j in list2:\n",
        "        if(i==j):\n",
        "          print(i)"
      ],
      "metadata": {
        "id": "ZMP6AmJXwNRh",
        "colab": {
          "base_uri": "https://localhost:8080/"
        },
        "outputId": "81500d13-bded-423f-d11d-745e8aaa51d3"
      },
      "execution_count": null,
      "outputs": [
        {
          "output_type": "stream",
          "name": "stdout",
          "text": [
            "Enter number of elements in first list: 1\n",
            "Enter elements in first list : 1\n",
            "Enter number of elements in second list : 3\n",
            "Enter elements in second list : 1\n",
            "Enter elements in second list : 2\n",
            "Enter elements in second list : 3\n",
            "The lists are of different length\n",
            "The lists does not sum to same value\n",
            "Values that occur in both lists are\n",
            "1\n"
          ]
        }
      ]
    },
    {
      "cell_type": "code",
      "source": [
        "#CO1:8.Get a string from an input string where all occurrences of first character replaced with ‘$’, except first character.\n",
        "s=input(\"Enter string : \")\n",
        "s1=s[0]+s[1:].replace(s[0],'$')\n",
        "print(s1)"
      ],
      "metadata": {
        "colab": {
          "base_uri": "https://localhost:8080/"
        },
        "id": "-BzsQycWR7q2",
        "outputId": "da2c5551-3128-4a3c-ff5b-d5c354eb941d"
      },
      "execution_count": null,
      "outputs": [
        {
          "output_type": "stream",
          "name": "stdout",
          "text": [
            "Enter string : remember\n",
            "remembe$\n"
          ]
        }
      ]
    },
    {
      "cell_type": "code",
      "source": [
        "#CO1:9.Create a string from given string where first and last characters exchanged.\n",
        "name=\"rachel\"\n",
        "name[-1]+name[1:-1]+name[0]"
      ],
      "metadata": {
        "colab": {
          "base_uri": "https://localhost:8080/",
          "height": 35
        },
        "id": "yp8A2aK-ObYR",
        "outputId": "84762d53-8e7d-4bd9-aa38-edfcecde18aa"
      },
      "execution_count": null,
      "outputs": [
        {
          "output_type": "execute_result",
          "data": {
            "text/plain": [
              "'lacher'"
            ],
            "application/vnd.google.colaboratory.intrinsic+json": {
              "type": "string"
            }
          },
          "metadata": {},
          "execution_count": 16
        }
      ]
    },
    {
      "cell_type": "code",
      "source": [
        "#CO1:13.Create a list of colors from comma-separated color names entered by user. Display first and last colors\n",
        "list=[]\n",
        "n=int(input(\"Enter number of colours in the list: \"))\n",
        "for i in range(0,n):\n",
        "  e=input()\n",
        "  list.append(e)\n",
        "print(\"The list of colours : \",list)\n",
        "print(\"The first colour in the list is \",list[0])\n",
        "print(\"The last colour in the list is \",list[-1])"
      ],
      "metadata": {
        "id": "bBLGWTTHWA7C",
        "colab": {
          "base_uri": "https://localhost:8080/"
        },
        "outputId": "734e3c6a-db95-4bae-f995-d4680748185f"
      },
      "execution_count": null,
      "outputs": [
        {
          "output_type": "stream",
          "name": "stdout",
          "text": [
            "Enter number of colours in the list: 4\n",
            "Black\n",
            "Indigo\n",
            "Green\n",
            "White\n",
            "The list of colours :  ['Black', 'Indigo', 'Green', 'White']\n",
            "The first colour in the list is  Black\n",
            "The last colour in the list is  White\n"
          ]
        }
      ]
    },
    {
      "cell_type": "code",
      "source": [
        "#CO1:12.Accept a file name from user and print extension of that.\n",
        "f=input(\"Enter file name : \")\n",
        "r=f.split(\".\")\n",
        "print(r[1])"
      ],
      "metadata": {
        "colab": {
          "base_uri": "https://localhost:8080/"
        },
        "id": "DAKfc0mbXTH2",
        "outputId": "ae53b719-dea7-454f-99ae-07ca061971da"
      },
      "execution_count": null,
      "outputs": [
        {
          "output_type": "stream",
          "name": "stdout",
          "text": [
            "Enter file name : file.html\n",
            "html\n"
          ]
        }
      ]
    },
    {
      "cell_type": "code",
      "source": [
        "#CO1:14.Accept an integer n and compute n+nn+nnn.\n",
        "n=int(input(\"Input an integer : \"))\n",
        "n1=n\n",
        "n2=n*n\n",
        "n3=n*n*n\n",
        "print(n1+n2+n3)"
      ],
      "metadata": {
        "id": "WH07cvlvZMww",
        "colab": {
          "base_uri": "https://localhost:8080/"
        },
        "outputId": "f3cef17a-071a-4d54-80a1-44005504eb2c"
      },
      "execution_count": null,
      "outputs": [
        {
          "output_type": "stream",
          "name": "stdout",
          "text": [
            "Input an integer : 4\n",
            "84\n"
          ]
        }
      ]
    },
    {
      "cell_type": "code",
      "source": [
        "#CO1:15.Print out all colors from color-list1 not contained in color-list2.\n",
        "color_list1=[]\n",
        "n=int(input(\"Enter number of colours in first list: \"))\n",
        "for i in range(0,n):\n",
        "  e=input(\"Enter colours in first list : \")\n",
        "  color_list1.append(e)\n",
        "  color_list2=[]\n",
        "n2=int(input(\"Enter number of colours in second list : \"))\n",
        "for i in range(0,n2):\n",
        "  e2=input(\"Enter colours in second list : \")\n",
        "  color_list2.append(e2)\n",
        "  r = [color for color in color_list1 if color not in color_list2]\n",
        "for color in r:\n",
        "    print(color)"
      ],
      "metadata": {
        "id": "Pjd4jiKw0UQ7",
        "colab": {
          "base_uri": "https://localhost:8080/"
        },
        "outputId": "c76bd050-953d-4976-ed1f-93866fb8bc05"
      },
      "execution_count": null,
      "outputs": [
        {
          "output_type": "stream",
          "name": "stdout",
          "text": [
            "Enter number of colours in first list: 4\n",
            "Enter colours in first list : White\n",
            "Enter colours in first list : Red\n",
            "Enter colours in first list : Yellow\n",
            "Enter colours in first list : Black\n",
            "Enter number of colours in second list : 3\n",
            "Enter colours in second list : Yellow\n",
            "Enter colours in second list : Green\n",
            "Enter colours in second list : Blue\n",
            "White\n",
            "Red\n",
            "Black\n"
          ]
        }
      ]
    },
    {
      "cell_type": "code",
      "source": [
        "#CO1:16.Create a single string separated with space from two strings by swapping the character at position 1.\n",
        "string1 = input(\"Enter the first string : \")\n",
        "string2 = input(\"Enter the second string : \")\n",
        "if len(string1) > 1 and len(string2) > 1:\n",
        "    list1 = list(string1)\n",
        "    list2 = list(string2)\n",
        "    list1[1], list2[1] = list2[1], list1[1]\n",
        "    result = \"\".join(list1) + \" \" + \"\".join(list2)\n",
        "else:\n",
        "    result = string1 + \" \" + string2\n",
        "print(result)\n"
      ],
      "metadata": {
        "colab": {
          "base_uri": "https://localhost:8080/"
        },
        "id": "YoB7RpvslCpP",
        "outputId": "84d573d1-2bd3-4350-8999-3965ebe5f2e8"
      },
      "execution_count": null,
      "outputs": [
        {
          "output_type": "stream",
          "name": "stdout",
          "text": [
            "Enter the first string : rachel\n",
            "Enter the second string : rishon\n",
            "richel rashon\n"
          ]
        }
      ]
    },
    {
      "cell_type": "code",
      "source": [
        "#CO1:17.Sort dictionary in ascending and descending order.\n",
        "d={'Rachel':3,'Rishon':4,'Jessy':2,'Jolly':1,'Anna':5}\n",
        "print(\"Ascending order : \",dict(sorted(d.items())))\n",
        "print(\"Descending order : \",dict(sorted(d.items(),reverse=True)))"
      ],
      "metadata": {
        "id": "JjJqHqt_mcK9",
        "colab": {
          "base_uri": "https://localhost:8080/"
        },
        "outputId": "2f2df9d9-6aee-429e-b5ff-1e6752319d5e"
      },
      "execution_count": null,
      "outputs": [
        {
          "output_type": "stream",
          "name": "stdout",
          "text": [
            "Ascending order :  {'Anna': 5, 'Jessy': 2, 'Jolly': 1, 'Rachel': 3, 'Rishon': 4}\n",
            "Descending order :  {'Rishon': 4, 'Rachel': 3, 'Jolly': 1, 'Jessy': 2, 'Anna': 5}\n"
          ]
        }
      ]
    },
    {
      "cell_type": "code",
      "source": [
        "#CO1:18.Merge two dictionaries.\n",
        "d1={'Rachel':3,'Rishon':4,'Jessy':2,'Jolly':1}\n",
        "d2={'Tina':9,'Nina':6,'Anna':5,'Tim':8,'Mike':7}\n",
        "print(\"Merged dictionaries : \",d1|d2)"
      ],
      "metadata": {
        "colab": {
          "base_uri": "https://localhost:8080/"
        },
        "id": "hmJps5ILry_t",
        "outputId": "96c2857f-115b-438e-9130-089c1f593598"
      },
      "execution_count": null,
      "outputs": [
        {
          "output_type": "stream",
          "name": "stdout",
          "text": [
            "Merged dictionaries :  {'Rachel': 3, 'Rishon': 4, 'Jessy': 2, 'Jolly': 1, 'Tina': 9, 'Nina': 6, 'Anna': 5, 'Tim': 8, 'Mike': 7}\n"
          ]
        }
      ]
    },
    {
      "cell_type": "code",
      "source": [
        "#CO1:19.Find gcd of 2 numbers.\n",
        "x=int(input(\"Enter the first number : \"))\n",
        "y=int(input(\"Enter the second number : \"))\n",
        "if x>y:\n",
        " x,y=y,x\n",
        "for i in range(1,x+1):\n",
        "  if x%i==0 and y%i==0:\n",
        "    gcd=i\n",
        "print(\"GCD of\", x, \"and\", y, \"is:\", gcd)\n"
      ],
      "metadata": {
        "colab": {
          "base_uri": "https://localhost:8080/"
        },
        "id": "g1FSgyB6tZ5I",
        "outputId": "a98c4e94-56ca-4543-d3e3-4c2b3f3c387b"
      },
      "execution_count": null,
      "outputs": [
        {
          "output_type": "stream",
          "name": "stdout",
          "text": [
            "Enter the first number : 6\n",
            "Enter the second number : 18\n",
            "GCD of 6 and 18 is: 6\n"
          ]
        }
      ]
    },
    {
      "cell_type": "code",
      "source": [
        "#CO1:20.From a list of integers, create a list removing even numbers.\n",
        "n=int(input(\"Enter the number of integers : \"))\n",
        "l=[]\n",
        "ol=[]\n",
        "for i in range(1,n+1):\n",
        " num=int(input(\"Enter the number:\"))\n",
        " l.append(num)\n",
        "print(\"List before removal of even numbers : \",l)\n",
        "ol=[i for i in l if i%2!=0]\n",
        "print(\"List after removal of even numbers : \",ol)\n"
      ],
      "metadata": {
        "colab": {
          "base_uri": "https://localhost:8080/"
        },
        "id": "1hwobE1bwLR1",
        "outputId": "7982f435-ab68-46b8-ccc1-f8f299d2fd36"
      },
      "execution_count": null,
      "outputs": [
        {
          "output_type": "stream",
          "name": "stdout",
          "text": [
            "Enter the number of integers : 4\n",
            "Enter the number:1\n",
            "Enter the number:2\n",
            "Enter the number:3\n",
            "Enter the number:4\n",
            "List before removal of even numbers :  [1, 2, 3, 4]\n",
            "List after removal of even numbers :  [1, 3]\n"
          ]
        }
      ]
    },
    {
      "cell_type": "code",
      "source": [
        "#CO2:6.Count the number of characters (character frequency) in a string\n",
        "s=input(\"Enter a string : \")\n",
        "char_freq={}\n",
        "print(\"Length of the string : \",len(s))\n",
        "for char in s:\n",
        "  if char.isalpha() or char.isspace():\n",
        "    char=char.lower()\n",
        "    char_freq[char]=char_freq.get(char,0)+1\n",
        "for char,freq in char_freq.items():\n",
        "  print(f\"'{char}' occurs {freq} times\")\n"
      ],
      "metadata": {
        "colab": {
          "base_uri": "https://localhost:8080/"
        },
        "id": "30BsgKxpM2lV",
        "outputId": "64d6c8cb-fd99-4654-dcc6-3ee61d181669"
      },
      "execution_count": null,
      "outputs": [
        {
          "output_type": "stream",
          "name": "stdout",
          "text": [
            "Enter a string : swimming\n",
            "Length of the string :  8\n",
            "'s' occurs 1 times\n",
            "'w' occurs 1 times\n",
            "'i' occurs 2 times\n",
            "'m' occurs 2 times\n",
            "'n' occurs 1 times\n",
            "'g' occurs 1 times\n"
          ]
        }
      ]
    },
    {
      "cell_type": "code",
      "source": [
        "#CO2:7.Add ‘ing’ at the end of a given string. If it already ends with ‘ing’, then add ‘ly’\n",
        "s1=input(\"Enter a string : \")\n",
        "if s1.endswith('ing'):\n",
        "  s2=s1+'ly'\n",
        "else:\n",
        "  s2=s1+'ing'\n",
        "print(s2)\n"
      ],
      "metadata": {
        "colab": {
          "base_uri": "https://localhost:8080/"
        },
        "id": "3TlQ79V-Qf4t",
        "outputId": "239e86c4-da1d-47b5-e9d0-0a17a0504554"
      },
      "execution_count": null,
      "outputs": [
        {
          "output_type": "stream",
          "name": "stdout",
          "text": [
            "Enter a string : willing\n",
            "willingly\n"
          ]
        }
      ]
    },
    {
      "cell_type": "code",
      "source": [
        "#CO2:8.Accept a list of words and return length of longest word.\n",
        "n=int(input(\"Enter the size of the list : \"))\n",
        "print(\"Enter words in the list : \")\n",
        "a=[input() for i in range(n)]\n",
        "max=len(a[0])\n",
        "temp=a[0]\n",
        "for i in a:\n",
        " if len(i)>max:\n",
        "  max=len(i)\n",
        "  temp=i\n",
        "print(\"The longest word is\",temp,\"with length \",max)\n"
      ],
      "metadata": {
        "colab": {
          "base_uri": "https://localhost:8080/"
        },
        "id": "sKapEAwJScwe",
        "outputId": "b5a7f5a1-718f-4535-c40a-fa38264f99cf"
      },
      "execution_count": null,
      "outputs": [
        {
          "output_type": "stream",
          "name": "stdout",
          "text": [
            "Enter the size of the list : 5\n",
            "Enter words in the list : \n",
            "kitty\n",
            "pin\n",
            "inside\n",
            "home\n",
            "fit\n",
            "The longest word is inside with length  6\n"
          ]
        }
      ]
    },
    {
      "cell_type": "code",
      "source": [
        "#CO2:9.Construct following pattern using nested loop\n",
        "from numpy.lib.function_base import i0\n",
        "n=int(input(\"Enter a number : \"))\n",
        "for i in range(1,n+1):\n",
        " print(\"*\"*i)\n",
        "for i in range(n-1,0,-1):\n",
        " print(\"*\"*i)"
      ],
      "metadata": {
        "colab": {
          "base_uri": "https://localhost:8080/"
        },
        "id": "z7bcIuqaVgS8",
        "outputId": "22d0fff3-fcca-4998-9c81-af87732989f0"
      },
      "execution_count": null,
      "outputs": [
        {
          "output_type": "stream",
          "name": "stdout",
          "text": [
            "Enter a number : 5\n",
            "*\n",
            "**\n",
            "***\n",
            "****\n",
            "*****\n",
            "****\n",
            "***\n",
            "**\n",
            "*\n"
          ]
        }
      ]
    },
    {
      "cell_type": "code",
      "source": [
        "#CO2:10.Generate all factors of a number.\n",
        "n=int(input(\"Enter a number:\"))\n",
        "print(\"The factors are:\")\n",
        "print(end=\"\")\n",
        "for i in range(1,n+1):\n",
        " if(n%i==0):\n",
        "  print(i)"
      ],
      "metadata": {
        "colab": {
          "base_uri": "https://localhost:8080/"
        },
        "id": "7I-kOgBMXzqu",
        "outputId": "4c6198d7-e036-4f4a-955f-24dca06c05b1"
      },
      "execution_count": null,
      "outputs": [
        {
          "output_type": "stream",
          "name": "stdout",
          "text": [
            "Enter a number:56\n",
            "The factors are:\n",
            "1\n",
            "2\n",
            "4\n",
            "7\n",
            "8\n",
            "14\n",
            "28\n",
            "56\n"
          ]
        }
      ]
    },
    {
      "cell_type": "code",
      "source": [
        "#CO2:11.Write lambda functions to find area of square, rectangle and triangle.\n",
        "import math\n",
        "s=int(input(\"Enter the side of the square : \"))\n",
        "area=lambda side:s*S\n",
        "print(\"Area of the square : \",s*s)\n",
        "a=int(input(\"Enter the length of the rectangle : \"))\n",
        "b=int(input(\"Enter the breadth of the rectangle : \"))\n",
        "area=lambda a,b:a*b\n",
        "print(\"Area of the rectangle : \",a*b)\n",
        "p=int(input(\"Enter the base of the triangle : \"))\n",
        "q=int(input(\"Enter the altitude : \"))\n",
        "area=lambda p,q:0.5*P*Q\n",
        "print(\"Area of the triangle : \",0.5*p*q)"
      ],
      "metadata": {
        "colab": {
          "base_uri": "https://localhost:8080/"
        },
        "id": "PAxefMf4Zcnv",
        "outputId": "244082f0-1626-406d-9b83-e47dac279cfb"
      },
      "execution_count": null,
      "outputs": [
        {
          "output_type": "stream",
          "name": "stdout",
          "text": [
            "Enter the side of the square : 4\n",
            "Area of the square :  16\n",
            "Enter the length of the rectangle : 2\n",
            "Enter the breadth of the rectangle : 5\n",
            "Area of the rectangle :  10\n",
            "Enter the base of the triangle : 5\n",
            "Enter the altitude : 6\n",
            "Area of the triangle :  15.0\n"
          ]
        }
      ]
    }
  ]
}